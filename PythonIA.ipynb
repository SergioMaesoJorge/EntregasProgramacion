{
 "cells": [
  {
   "cell_type": "code",
   "execution_count": 8,
   "id": "5f4dc64e",
   "metadata": {},
   "outputs": [
    {
     "name": "stdout",
     "output_type": "stream",
     "text": [
      "0        (0.0, 50.0]\n",
      "1        (0.0, 50.0]\n",
      "2        (0.0, 50.0]\n",
      "3      (50.0, 100.0]\n",
      "4                NaN\n",
      "           ...      \n",
      "72    (100.0, 500.0]\n",
      "73       (0.0, 50.0]\n",
      "74    (100.0, 500.0]\n",
      "75     (50.0, 100.0]\n",
      "76       (0.0, 50.0]\n",
      "Name: unitsInStock, Length: 77, dtype: category\n",
      "Categories (3, interval[int64, right]): [(0, 50] < (50, 100] < (100, 500]]\n"
     ]
    },
    {
     "name": "stderr",
     "output_type": "stream",
     "text": [
      "C:\\Users\\Tecnicos\\AppData\\Local\\Temp\\ipykernel_3940\\2415889353.py:6: SettingWithCopyWarning: \n",
      "A value is trying to be set on a copy of a slice from a DataFrame.\n",
      "Try using .loc[row_indexer,col_indexer] = value instead\n",
      "\n",
      "See the caveats in the documentation: https://pandas.pydata.org/pandas-docs/stable/user_guide/indexing.html#returning-a-view-versus-a-copy\n",
      "  df[\"unitsInStock\"]= pd.cut(df[\"unitsInStock\"],bins,nombres)\n"
     ]
    }
   ],
   "source": [
    "import pandas as pd\n",
    "productos=pd.read_csv(\"products.csv\")\n",
    "bins=[0,50,100,500]\n",
    "df=productos[[\"unitsInStock\"]]\n",
    "nombres=[\"stock crítico\",\"stock normal\",\"stock\"]\n",
    "df[\"unitsInStock\"]= pd.cut(df[\"unitsInStock\"],bins,nombres)\n",
    "print(df[\"unitsInStock\"])"
   ]
  },
  {
   "cell_type": "code",
   "execution_count": 12,
   "id": "7b0bf16a",
   "metadata": {},
   "outputs": [
    {
     "name": "stdout",
     "output_type": "stream",
     "text": [
      "                value\n",
      "date                 \n",
      "2018-03-31  46.066667\n",
      "2018-06-30  47.186813\n",
      "2018-09-30  47.413043\n",
      "2018-12-31  52.271739\n"
     ]
    }
   ],
   "source": [
    "import datetime\n",
    "import numpy as np\n",
    "import pandas as pd\n",
    "import matplotlib.pyplot as mpl\n",
    "df = pd.DataFrame()\n",
    "date = [datetime.datetime(2018, 1, 1) + datetime.timedelta(days=x) for x in range(0, 365)]\n",
    "value = list(np.random.randint(low=0, high=100, size=365))\n",
    "df['date'] = pd.to_datetime(date)\n",
    "df.index = df['date']\n",
    "df['value'] = value\n",
    "#print(df[\"date\"])\n",
    "#print(df[\"value\"])\n",
    "print(df.resample('Q').mean())"
   ]
  },
  {
   "cell_type": "code",
   "execution_count": 18,
   "id": "cf498442",
   "metadata": {},
   "outputs": [
    {
     "data": {
      "text/plain": [
       "<AxesSubplot:ylabel='date'>"
      ]
     },
     "execution_count": 18,
     "metadata": {},
     "output_type": "execute_result"
    },
    {
     "data": {
      "image/png": "[encoded data removed]",
      "text/plain": [
       "<Figure size 640x480 with 1 Axes>"
      ]
     },
     "metadata": {},
     "output_type": "display_data"
    }
   ],
   "source": [
    "import datetime\n",
    "import numpy as np\n",
    "import pandas as pd\n",
    "import matplotlib.pyplot as plt\n",
    "df = pd.DataFrame()\n",
    "date = [datetime.datetime(2018, 1, 1) + datetime.timedelta(days=x) for x in range(0, 365)]\n",
    "value = list(np.random.randint(low=0, high=100, size=365))\n",
    "df['date'] = pd.to_datetime(date)\n",
    "df.index = df['date']\n",
    "df['value'] = value\n",
    "df.unitsInStock.value_counts().plot.pie()\n",
    "plot.show()\n",
    "x=df.groupby(df['date'].dt.quarter).mean()\n",
    "x.plot.barh()\n",
    "\n"
   ]
  },
  {
   "cell_type": "code",
   "execution_count": null,
   "id": "77777fdb",
   "metadata": {},
   "outputs": [],
   "source": []
  }
 ],
 "metadata": {
  "kernelspec": {
   "display_name": "Python 3 (ipykernel)",
   "language": "python",
   "name": "python3"
  },
  "language_info": {
   "codemirror_mode": {
    "name": "ipython",
    "version": 3
   },
   "file_extension": ".py",
   "mimetype": "text/x-python",
   "name": "python",
   "nbconvert_exporter": "python",
   "pygments_lexer": "ipython3",
   "version": "3.9.13"
  }
 },
 "nbformat": 4,
 "nbformat_minor": 5
}
